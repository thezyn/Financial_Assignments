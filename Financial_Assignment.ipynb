{
  "nbformat": 4,
  "nbformat_minor": 0,
  "metadata": {
    "colab": {
      "provenance": []
    },
    "kernelspec": {
      "name": "python3",
      "display_name": "Python 3"
    },
    "language_info": {
      "name": "python"
    }
  },
  "cells": [
    {
      "cell_type": "markdown",
      "source": [
        "What is the present value of $20,000 to be received 8 years from now, assuming a discount rate of 5% per year?"
      ],
      "metadata": {
        "id": "VjEi664caIM0"
      }
    },
    {
      "cell_type": "code",
      "source": [
        "FV = 20000\n",
        "r = 0.05\n",
        "n = 8\n",
        "Demoninator = (1 + r)**n\n",
        "PV = FV / Demoninator\n",
        "print(PV)\n",
        "\n"
      ],
      "metadata": {
        "colab": {
          "base_uri": "https://localhost:8080/"
        },
        "id": "4J14fiQoaKCY",
        "outputId": "cbb92f90-1048-41c3-9751-ef5232249930"
      },
      "execution_count": null,
      "outputs": [
        {
          "output_type": "stream",
          "name": "stdout",
          "text": [
            "13536.78724057374\n"
          ]
        }
      ]
    },
    {
      "cell_type": "markdown",
      "source": [
        "You will receive $2,000 at the end of each year for the next 10 years. If the discount rate is 7% per year, what is the present value of these payments?\n",
        "\n"
      ],
      "metadata": {
        "id": "trBQKfi2aQgu"
      }
    },
    {
      "cell_type": "code",
      "source": [
        "P = 2000 #Payment per period\n",
        "r = 0.07 # discount rate\n",
        "n = 10  # time\n",
        "Numerator = P * ( 1 - (1 + r)**-n )\n",
        "PV = Numerator / r\n",
        "print(PV)\n",
        "print(f'The present value of the annuity is ${PV:.2f}')"
      ],
      "metadata": {
        "colab": {
          "base_uri": "https://localhost:8080/"
        },
        "id": "grRswg-UaUa-",
        "outputId": "0564f616-372f-48aa-fa8e-67586e1e6606"
      },
      "execution_count": null,
      "outputs": [
        {
          "output_type": "stream",
          "name": "stdout",
          "text": [
            "14047.16308186521\n",
            "The present value of the annuity is $14047.16\n"
          ]
        }
      ]
    },
    {
      "cell_type": "markdown",
      "source": [
        " Calculate the future value of $10,000 invested for 5 years at an annual interest rate of 6%, compounded annually.\n",
        "\n"
      ],
      "metadata": {
        "id": "QLwHKZqUuQJO"
      }
    },
    {
      "cell_type": "code",
      "source": [
        "P = 10000\n",
        "r = 0.06\n",
        "n = 5\n",
        "FV = P *(1+r)**n\n",
        "print(f'The future value of the investment is ${FV:.2f}')"
      ],
      "metadata": {
        "colab": {
          "base_uri": "https://localhost:8080/"
        },
        "id": "7VcOJPo9uVSB",
        "outputId": "b2f00bd2-0853-4c2f-f6d8-c3568ea4bc2b"
      },
      "execution_count": null,
      "outputs": [
        {
          "output_type": "stream",
          "name": "stdout",
          "text": [
            "The future value of the investment is $13382.26\n"
          ]
        }
      ]
    },
    {
      "cell_type": "markdown",
      "source": [
        "Suppose you will receive a payment of $500 at the end of this year, and payments will grow by 3% annually for the next 5 years. If the discount rate is 8%, what is the present value of this growing annuity?"
      ],
      "metadata": {
        "id": "FWWpyx13vTUZ"
      }
    },
    {
      "cell_type": "code",
      "source": [
        "P = 500\n",
        "r = 0.08\n",
        "g = 0.03\n",
        "n = 5\n",
        "PV = P * ((1 - ((1 + g) / (1 + r)) ** n) / (r - g))\n",
        "print(PV)"
      ],
      "metadata": {
        "colab": {
          "base_uri": "https://localhost:8080/"
        },
        "id": "ImQpo9ZDvT5f",
        "outputId": "39a68ce4-e594-48f6-9f21-177b805d3d80"
      },
      "execution_count": null,
      "outputs": [
        {
          "output_type": "stream",
          "name": "stdout",
          "text": [
            "2110.175442745612\n"
          ]
        }
      ]
    },
    {
      "cell_type": "markdown",
      "source": [
        "Suppose you invest $5,000 at 4% annual interest. How much will you have after 3 years if interest is compounded:\n",
        "•\t(a) Annually.\n",
        "•\t(b) Quarterly.\n",
        "•\t(c) Monthly\n"
      ],
      "metadata": {
        "id": "TneJPAUHUZSh"
      }
    },
    {
      "cell_type": "code",
      "source": [
        "#A Anually\n",
        "P= 5000\n",
        "r = 0.04\n",
        "n = 3\n",
        "FV = P * (1 + r)**n\n",
        "print(f\" The compounded annual interest is ${FV:.2F}\")"
      ],
      "metadata": {
        "colab": {
          "base_uri": "https://localhost:8080/"
        },
        "id": "5CuUUdzkUan4",
        "outputId": "45d85ab0-a738-4fc4-b5e3-27cd9926a175"
      },
      "execution_count": null,
      "outputs": [
        {
          "output_type": "stream",
          "name": "stdout",
          "text": [
            " The compounded annual interest is $5624.32\n"
          ]
        }
      ]
    },
    {
      "cell_type": "code",
      "source": [
        "#B Quarterly\n",
        "P = 5000\n",
        "r = 0.04\n",
        "n =3\n",
        "m = 4\n",
        "FV = P * (1+r/m)**(n*m)\n",
        "print(f\" The compounded quarterly interest is ${FV:.2F}\")"
      ],
      "metadata": {
        "colab": {
          "base_uri": "https://localhost:8080/"
        },
        "id": "T59C0q2HVCB3",
        "outputId": "a72fadd8-8005-4807-8dd9-543e7c08730f"
      },
      "execution_count": null,
      "outputs": [
        {
          "output_type": "stream",
          "name": "stdout",
          "text": [
            " The compounded quarterly interest is $5634.13\n"
          ]
        }
      ]
    },
    {
      "cell_type": "code",
      "source": [
        "#Monthly\n",
        "P = 5000\n",
        "r = 0.04\n",
        "n =3\n",
        "m = 12\n",
        "FV = P * (1+r/m)**(n*m)\n",
        "print(f\" The compounded monthly interest is ${FV:.2F}\")"
      ],
      "metadata": {
        "colab": {
          "base_uri": "https://localhost:8080/"
        },
        "id": "UbE6B0U0VYIn",
        "outputId": "89628861-ded0-4801-b74c-722fce59cb82"
      },
      "execution_count": null,
      "outputs": [
        {
          "output_type": "stream",
          "name": "stdout",
          "text": [
            " The compounded monthly interest is $5636.36\n"
          ]
        }
      ]
    },
    {
      "cell_type": "markdown",
      "source": [
        "A bank offers a nominal interest rate of 6%, compounded monthly. Calculate the effective annual rate (EAR)."
      ],
      "metadata": {
        "id": "yI0G1qt9Wety"
      }
    },
    {
      "cell_type": "code",
      "source": [
        "r = 0.06\n",
        "m = 12\n",
        "EAR = ((1 + r/m)**m) - 1\n",
        "print(f\"Effective Annual Rate (EAR): {EAR *100:.2f}%\")\n"
      ],
      "metadata": {
        "colab": {
          "base_uri": "https://localhost:8080/"
        },
        "id": "ZdbjEa-NWfTb",
        "outputId": "22772fc8-8495-44b7-b684-010d4351c32a"
      },
      "execution_count": null,
      "outputs": [
        {
          "output_type": "stream",
          "name": "stdout",
          "text": [
            "Effective Annual Rate (EAR): 6.17%\n"
          ]
        }
      ]
    },
    {
      "cell_type": "markdown",
      "source": [
        "Question 7: You invest $12,000 today in a project that is expected to generate the following cash flows over the next 5 years:\n",
        "\n"
      ],
      "metadata": {
        "id": "ZeL2Ja1GYsa1"
      }
    },
    {
      "cell_type": "code",
      "source": [
        "Year_1 = (3000/(1+0.08)**1)\n",
        "Year_2 = (4000/(1+0.08)**2)\n",
        "Year_3 = (3500/(1+0.08)**3)\n",
        "Year_4 = (5000/(1+0.08)**4)\n",
        "Year_5 = (6000/(1+0.08)**5)\n",
        "PV = Year_1 + Year_2 + Year_3 + Year_4 + Year_5\n",
        "print(f\"The total PV for the following years is ${PV:.2F}\")"
      ],
      "metadata": {
        "colab": {
          "base_uri": "https://localhost:8080/"
        },
        "id": "Emjl79WcYumY",
        "outputId": "87f366b6-8c01-4412-8c6e-ad87ac5147e1"
      },
      "execution_count": null,
      "outputs": [
        {
          "output_type": "stream",
          "name": "stdout",
          "text": [
            "The total PV for the following years is $16744.19\n"
          ]
        }
      ]
    },
    {
      "cell_type": "markdown",
      "source": [
        "Question 8. Suppose two projects have the following cash flows.  Compute the IRR for both projects. Which project would you choose if the required rate of return is 10%? (Use IRR and NPV to make the decision).\n",
        "\n",
        "![image.png](data:image/png;base64,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)\n"
      ],
      "metadata": {
        "id": "GhBLlfQ46hT_"
      }
    },
    {
      "cell_type": "code",
      "source": [
        "pip install numpy-financial"
      ],
      "metadata": {
        "id": "ziCQOvk899aS",
        "outputId": "19501865-519e-4b2d-9c47-b6c8c8e20521",
        "colab": {
          "base_uri": "https://localhost:8080/"
        }
      },
      "execution_count": null,
      "outputs": [
        {
          "output_type": "stream",
          "name": "stdout",
          "text": [
            "Collecting numpy-financial\n",
            "  Downloading numpy_financial-1.0.0-py3-none-any.whl.metadata (2.2 kB)\n",
            "Requirement already satisfied: numpy>=1.15 in /usr/local/lib/python3.10/dist-packages (from numpy-financial) (1.26.4)\n",
            "Downloading numpy_financial-1.0.0-py3-none-any.whl (14 kB)\n",
            "Installing collected packages: numpy-financial\n",
            "Successfully installed numpy-financial-1.0.0\n"
          ]
        }
      ]
    },
    {
      "cell_type": "code",
      "source": [
        "import numpy_financial as npf\n",
        "\n",
        "#Project A IRR\n",
        "cash_flow_a = [-10000,5000,6000,7000]\n",
        "IRR_A = npf.irr(cash_flow_a)\n",
        "print(F\"The IRR for Project A is {IRR_A * 100:.2F}%\")\n",
        "\n",
        "#Project B IRR\n",
        "cash_flow_b = [-10000,4000,4500,8000]\n",
        "IRR_B = npf.irr(cash_flow_b)\n",
        "print(F\"The IRR for Project B is {IRR_B * 100:.2F}%\")\n",
        "\n",
        "\n"
      ],
      "metadata": {
        "id": "xGWK_1BT-Cun",
        "colab": {
          "base_uri": "https://localhost:8080/"
        },
        "outputId": "441f66b2-21b2-48fe-8d01-ba253306ed5e"
      },
      "execution_count": null,
      "outputs": [
        {
          "output_type": "stream",
          "name": "stdout",
          "text": [
            "The IRR for Project A is 33.87%\n",
            "The IRR for Project B is 26.05%\n"
          ]
        }
      ]
    },
    {
      "cell_type": "code",
      "source": [
        "#NPV for Project A\n",
        "\n",
        "NPV_A = 5000/(1+0.10)**1 + 6000/(1+0.10)**2 + 7000/(1+0.10)**3 - 10000\n",
        "print(F\" The NPV for Project A is ${NPV_A:.2F}\")\n",
        "\n",
        "#NPV for Project B\n",
        "NPV_B = 4000/(1+0.10)**1 + 4500/(1+0.10)**2 + 8000/(1+0.10)**3 - 10000\n",
        "print(F\"The NPV for Project B is ${NPV_B:.2F}\")"
      ],
      "metadata": {
        "colab": {
          "base_uri": "https://localhost:8080/"
        },
        "id": "ifQie1fVAxOD",
        "outputId": "0046f926-f4c8-44a4-fd37-d710b6ae1794"
      },
      "execution_count": null,
      "outputs": [
        {
          "output_type": "stream",
          "name": "stdout",
          "text": [
            " The NPV for Project A is $4763.34\n",
            "The NPV for Project B is $3365.89\n"
          ]
        }
      ]
    },
    {
      "cell_type": "markdown",
      "source": [
        "Question 9: Given the following information, calculate the expected return on Stock A using the CAPM model:\n",
        "o\tRisk-free rate Rf: 3%.\n",
        "o\tExpected market return Rm: 8%.\n",
        "o\tBeta of Stock A βA: 1.2.\n"
      ],
      "metadata": {
        "id": "Y4mPAtInDMT4"
      }
    },
    {
      "cell_type": "code",
      "source": [
        "#Expected Return on Stock A\n",
        "E_Ra = 0.03 + 1.2 * (0.08 - 0.03)\n",
        "print(f\"The Expected Return on Stock A is {E_Ra * 100 :.2f}%\")"
      ],
      "metadata": {
        "colab": {
          "base_uri": "https://localhost:8080/"
        },
        "id": "oasiRUrWDNOa",
        "outputId": "463454e9-713e-4563-a46f-44cd1639e2fe"
      },
      "execution_count": null,
      "outputs": [
        {
          "output_type": "stream",
          "name": "stdout",
          "text": [
            "The Expected Return on Stock A is 9.00%\n"
          ]
        }
      ]
    },
    {
      "cell_type": "markdown",
      "source": [
        "Question 10: You have a portfolio composed of two stocks:\n",
        "•\tStock A has an expected return of 12% and a beta of 1.5.\n",
        "•\tStock B has an expected return of 8% and a beta of 0.9.\n",
        "The portfolio consists of 60% Stock A and 40% Stock B. Calculate:\n",
        "•\t(a) The expected return of the portfolio.\n",
        "•\t(b) The beta of the portfolio\n"
      ],
      "metadata": {
        "id": "bgZTG7BVD5xX"
      }
    },
    {
      "cell_type": "code",
      "source": [
        "# Expected Return for the Portfolio\n",
        "E_portfolio = 0.60 * 0.12 + 0.40 * 0.08\n",
        "print(f\" The expected return for the Portfolio is {E_portfolio * 100}%\")\n",
        "\n",
        "# Beta of the Portfolio\n",
        "B_portfolio = 0.60 * 1.5 + 0.40 * 0.9\n",
        "print(f\"The expected Beta for the Portfolio is {B_portfolio}\")\n"
      ],
      "metadata": {
        "colab": {
          "base_uri": "https://localhost:8080/"
        },
        "id": "fz-Ss0lAEAWi",
        "outputId": "fdddd511-359e-48aa-dca1-aea9cefa2372"
      },
      "execution_count": null,
      "outputs": [
        {
          "output_type": "stream",
          "name": "stdout",
          "text": [
            " The expected return for the Portfolio is 10.4%\n",
            "The expected Beta for the Portfolio is 1.26\n"
          ]
        }
      ]
    },
    {
      "cell_type": "markdown",
      "source": [
        "Question 11 (Refer to ‘Financial Modeling”, Chapter 1, Problem 8)\n",
        "You have just taken a car loan of $15,000. The loan is for 48 months at an annual interest\n",
        "rate of 15% (which the bank translates to a monthly rate of 15%/12 = 1.25%). The 48\n",
        "payments (to be made at the end of each of the next 48 months) are all equal.\n",
        "a. Calculate the monthly payment on the loan.\n",
        "b. In a loan table calculate, for each month: the principal remaining on the loan at the\n",
        "beginning of the month and the split of that month ’ s payment between interest and\n",
        "repayment of principal.\n",
        "c. Show that the principal at the beginning of each month is the present value of the\n",
        "remaining loan payments at the loan interest rate (use either NPV or the PV\n",
        "functions).\n"
      ],
      "metadata": {
        "id": "RkOKM7D6HASn"
      }
    },
    {
      "cell_type": "code",
      "source": [
        "#A: Monthly Payment on the Loan\n",
        "p = 15000\n",
        "r = 0.0125\n",
        "n = 48\n",
        "M = p * (r * (1 + r)**n) / ((1+r)**n -1)\n",
        "print(f\"The monthly payment on the loan is ${M:.2f}\")\n",
        "\n",
        "#B: Loan amortization table\n",
        "p = 15000\n",
        "r = 0.0125\n",
        "n = 48\n",
        "M = p * (r * (1 + r)**n) / ((1+r)**n -1)\n",
        "\n",
        "#List for Amortization Schedule\n",
        "amortization_schedule = []\n",
        "\n",
        "#remaining principle\n",
        "remaining_principal = p\n",
        "\n",
        "#Interest, principal repayment, and remaining balance\n",
        "for month in range(1, n +1):\n",
        "  #Interest Payment for the curren month\n",
        "  interest_payment = remaining_principal * r\n",
        "\n",
        "  #Principle rePayment for the Current Month\n",
        "  principle_repayment = M - interest_payment\n",
        "\n",
        "  #Remaining Principle after Current Payment\n",
        "  remaining_principal -= principle_repayment\n",
        "\n",
        "  # Append the month details to the amortization schedule\n",
        "  amortization_schedule.append({\n",
        "        'Month': month,\n",
        "        'Monthly Payment': round(M, 2),\n",
        "        'Interest Payment': round(interest_payment, 2),\n",
        "        'Principal Repayment': round(principle_repayment, 2),\n",
        "        'Remaining Principal': round(remaining_principal, 2)\n",
        "    })\n",
        "#Amortization Schedule\n",
        "import pandas as pd\n",
        "df = pd.DataFrame(amortization_schedule)\n",
        "print(df)\n",
        "\n",
        "\n"
      ],
      "metadata": {
        "colab": {
          "base_uri": "https://localhost:8080/"
        },
        "id": "knGnUBJGHA69",
        "outputId": "c3a4ff9e-f7bf-4760-e31e-ec5c40655e46"
      },
      "execution_count": null,
      "outputs": [
        {
          "output_type": "stream",
          "name": "stdout",
          "text": [
            "The monthly payment on the loan is $417.46\n",
            "    Month  Monthly Payment  Interest Payment  Principal Repayment  \\\n",
            "0       1           417.46            187.50               229.96   \n",
            "1       2           417.46            184.63               232.84   \n",
            "2       3           417.46            181.72               235.75   \n",
            "3       4           417.46            178.77               238.69   \n",
            "4       5           417.46            175.78               241.68   \n",
            "5       6           417.46            172.76               244.70   \n",
            "6       7           417.46            169.70               247.76   \n",
            "7       8           417.46            166.61               250.85   \n",
            "8       9           417.46            163.47               253.99   \n",
            "9      10           417.46            160.30               257.16   \n",
            "10     11           417.46            157.08               260.38   \n",
            "11     12           417.46            153.83               263.63   \n",
            "12     13           417.46            150.53               266.93   \n",
            "13     14           417.46            147.20               270.27   \n",
            "14     15           417.46            143.82               273.64   \n",
            "15     16           417.46            140.40               277.06   \n",
            "16     17           417.46            136.93               280.53   \n",
            "17     18           417.46            133.43               284.03   \n",
            "18     19           417.46            129.88               287.58   \n",
            "19     20           417.46            126.28               291.18   \n",
            "20     21           417.46            122.64               294.82   \n",
            "21     22           417.46            118.96               298.50   \n",
            "22     23           417.46            115.23               302.24   \n",
            "23     24           417.46            111.45               306.01   \n",
            "24     25           417.46            107.62               309.84   \n",
            "25     26           417.46            103.75               313.71   \n",
            "26     27           417.46             99.83               317.63   \n",
            "27     28           417.46             95.86               321.60   \n",
            "28     29           417.46             91.84               325.62   \n",
            "29     30           417.46             87.77               329.69   \n",
            "30     31           417.46             83.65               333.81   \n",
            "31     32           417.46             79.47               337.99   \n",
            "32     33           417.46             75.25               342.21   \n",
            "33     34           417.46             70.97               346.49   \n",
            "34     35           417.46             66.64               350.82   \n",
            "35     36           417.46             62.25               355.21   \n",
            "36     37           417.46             57.81               359.65   \n",
            "37     38           417.46             53.32               364.14   \n",
            "38     39           417.46             48.77               368.69   \n",
            "39     40           417.46             44.16               373.30   \n",
            "40     41           417.46             39.49               377.97   \n",
            "41     42           417.46             34.77               382.69   \n",
            "42     43           417.46             29.98               387.48   \n",
            "43     44           417.46             25.14               392.32   \n",
            "44     45           417.46             20.24               397.22   \n",
            "45     46           417.46             15.27               402.19   \n",
            "46     47           417.46             10.24               407.22   \n",
            "47     48           417.46              5.15               412.31   \n",
            "\n",
            "    Remaining Principal  \n",
            "0              14770.04  \n",
            "1              14537.20  \n",
            "2              14301.46  \n",
            "3              14062.76  \n",
            "4              13821.09  \n",
            "5              13576.39  \n",
            "6              13328.63  \n",
            "7              13077.78  \n",
            "8              12823.79  \n",
            "9              12566.63  \n",
            "10             12306.25  \n",
            "11             12042.62  \n",
            "12             11775.69  \n",
            "13             11505.42  \n",
            "14             11231.78  \n",
            "15             10954.71  \n",
            "16             10674.19  \n",
            "17             10390.15  \n",
            "18             10102.57  \n",
            "19              9811.39  \n",
            "20              9516.57  \n",
            "21              9218.07  \n",
            "22              8915.83  \n",
            "23              8609.82  \n",
            "24              8299.98  \n",
            "25              7986.27  \n",
            "26              7668.64  \n",
            "27              7347.03  \n",
            "28              7021.41  \n",
            "29              6691.72  \n",
            "30              6357.90  \n",
            "31              6019.91  \n",
            "32              5677.70  \n",
            "33              5331.21  \n",
            "34              4980.39  \n",
            "35              4625.18  \n",
            "36              4265.54  \n",
            "37              3901.39  \n",
            "38              3532.70  \n",
            "39              3159.40  \n",
            "40              2781.43  \n",
            "41              2398.74  \n",
            "42              2011.26  \n",
            "43              1618.94  \n",
            "44              1221.71  \n",
            "45               819.52  \n",
            "46               412.31  \n",
            "47                -0.00  \n"
          ]
        }
      ]
    },
    {
      "cell_type": "markdown",
      "source": [
        "Question 12 (Refer to ‘Financial Modeling”, Chapter 1, Problem 13)\n",
        " You have just turned 35, and you intend to start saving for your retirement. Once you retire\n",
        "in 30 years (when you turn 65), you would like to have an income of $100,000 per year\n",
        "for the next 20 years. Calculate how much you would have to save between now and age\n",
        "65 in order to fi nance your retirement income. Make the following assumptions:\n",
        "• All savings draw compound interest of 10% per year.\n",
        "• You make the fi rst payment today and the last payment on the day you turn 64 (30\n",
        "payments).\n",
        "• You make the fi rst withdrawal when you turn 65 and the last withdrawal when you turn\n",
        "84 (20 payments).\n"
      ],
      "metadata": {
        "id": "Zqxrw491OqAp"
      }
    },
    {
      "cell_type": "code",
      "source": [
        "# Lump Sum to Retire at 65\n",
        "p = 100000 #annual withdrawl amount\n",
        "r = 0.10 #annual interest during retirment\n",
        "n = 20   #number of years during withdrawal\n",
        "PV = p * (1-(1+r)**-n)/r\n",
        "print(f\"The lump sum to retire at age 65 is ${PV:.2f}\")\n",
        "\n",
        "# How much money to save per year\n",
        "#Updated Variables\n",
        "#p annual savings\n",
        "r = 0.10 #annual interest\n",
        "n = 30 #years of saving\n",
        "fv =  PV\n",
        "p = fv / (((1 + r)**n - 1) / r * (1 + r))\n",
        "print(f\"The amount of savings needed per year is ${p:.2f}\")"
      ],
      "metadata": {
        "colab": {
          "base_uri": "https://localhost:8080/"
        },
        "id": "AeCl8pGYOuJ4",
        "outputId": "9176f347-cac4-477b-a175-b8376f0becec"
      },
      "execution_count": null,
      "outputs": [
        {
          "output_type": "stream",
          "name": "stdout",
          "text": [
            "The lump sum to retire at age 65 is $851356.37\n",
            "The amount of savings needed per year is $4705.10\n"
          ]
        }
      ]
    },
    {
      "cell_type": "markdown",
      "source": [
        "Question 13  (Refer to “Financial Modeling”  , Chapter 3,  Problem 6)\n",
        "ABC Corp. has just paid a dividend of $3 per share. You—an experienced analyst—feel\n",
        "quite sure that the growth rate of the company ’ s dividends over the next 10 years will be\n",
        "15% per year. After 10 years you think that the company ’ s dividend growth rate will slow\n",
        "to the industry average, which is about 5% per year. If the cost of equity for ABC is 12%,\n",
        "what is the value today of one share of the company?\n"
      ],
      "metadata": {
        "id": "9gsIcqjBSjVN"
      }
    },
    {
      "cell_type": "code",
      "source": [
        "#Dividends for the first ten years\n",
        "D_0 = 3 #initial dividend\n",
        "g_1 = 0.15 #growth rate for the first 10 years\n",
        "n = 10 #number of years\n",
        "\n",
        "#For LOOP to calculate dividend\n",
        "for t in range(1, n + 1):\n",
        "  D_t = D_0 * (1+g_1)** t\n",
        "  print(f\"Year {t}: Dividend = ${D_t:.2f}\")\n",
        "\n",
        " #Present Value of Dividends for the first Ten Years\n",
        "D_0 = 3  # Initial dividend\n",
        "g_1 = 0.15  # Growth rate for the first 10 years\n",
        "r = 0.12  # Cost of equity / required return\n",
        "n = 10  # Number of years\n",
        "#present value of dividends\n",
        "pv_dividends = 0\n",
        "\n",
        "for t in range(1, n + 1):\n",
        "  #Dividend for year t\n",
        "  D_t = D_0 * (1 + g_1) ** t\n",
        "    # Calculate the present value of the dividend for year t\n",
        "PV_D_t = D_t / (1 + r) ** t\n",
        "pv_dividends += PV_D_t  # Accumulate the present value of all dividends\n",
        "print(f\"Year {t}: Dividend = ${D_t:.2f}, Present Value = ${PV_D_t:.2f}\")\n",
        "\n",
        "# Print the total present value of dividends in the first 10 years\n",
        "print(f\"Total Present Value of Dividends (First 10 Years): ${pv_dividends:.2f}\")\n",
        "\n",
        "g_2 = 0.05  # Growth rate after year 10\n",
        "\n",
        "# Calculate the dividend for year 10\n",
        "D_10 = D_0 * (1 + g_1) ** 10\n",
        "\n",
        "# Calculate the dividend for year 11\n",
        "D_11 = D_10 * (1 + g_2)\n",
        "\n",
        "# Calculate the terminal value at year 10 using the Gordon Growth Model\n",
        "TV_10 = D_11 / (r - g_2)\n",
        "\n",
        "# Discount the terminal value back to the present\n",
        "PV_TV_10 = TV_10 / (1 + r) ** 10\n",
        "\n",
        "# Print the results\n",
        "print(f\"Terminal Value at Year 10: ${TV_10:.2f}\")\n",
        "print(f\"Present Value of Terminal Value: ${PV_TV_10:.2f}\")\n",
        "\n",
        "\n"
      ],
      "metadata": {
        "colab": {
          "base_uri": "https://localhost:8080/"
        },
        "id": "pvzXb6P3SnZ-",
        "outputId": "81c6b217-90f7-4703-92e6-34274bd36b21"
      },
      "execution_count": null,
      "outputs": [
        {
          "output_type": "stream",
          "name": "stdout",
          "text": [
            "Year 1: Dividend = $3.45\n",
            "Year 2: Dividend = $3.97\n",
            "Year 3: Dividend = $4.56\n",
            "Year 4: Dividend = $5.25\n",
            "Year 5: Dividend = $6.03\n",
            "Year 6: Dividend = $6.94\n",
            "Year 7: Dividend = $7.98\n",
            "Year 8: Dividend = $9.18\n",
            "Year 9: Dividend = $10.55\n",
            "Year 10: Dividend = $12.14\n",
            "Year 10: Dividend = $12.14, Present Value = $3.91\n",
            "Total Present Value of Dividends (First 10 Years): $3.91\n",
            "Terminal Value at Year 10: $182.05\n",
            "Present Value of Terminal Value: $58.62\n"
          ]
        }
      ]
    },
    {
      "cell_type": "markdown",
      "source": [
        "Question 14 (Reft to “Financial Modeling”, Chapter 3, Problem 9)\n",
        "You are considering buying the bonds of a very risky company. A bond with a $100 face\n",
        "value, a 1-year maturity, and a coupon rate of 22% is selling for $95. You consider the\n",
        "probability that the company will actually survive to pay off the bond 80%. With 20%\n",
        "probability, you think that the company will default, in which case you think that you will\n",
        "be able to recover $40.\n",
        "a. What is the expected return on the bond?\n",
        "b. If the company has cost of equity r E = 25%, tax rate T C = 35%, and 40% of its capital\n",
        "structure is equity, what is its weighted average cost of capital (WACC)?\n"
      ],
      "metadata": {
        "id": "jG91XLpaWTkG"
      }
    },
    {
      "cell_type": "code",
      "source": [
        "#A Expected Return of the Bond\n",
        "Face_Value = 100\n",
        "Coupon_Rate = 22\n",
        "Bond_Price = 95\n",
        "Survival = 0.80\n",
        "Defualt = 0.20\n",
        "Recovery = 40\n",
        "#Expected payoff\n",
        "Expected_Payoff = (Survival * 122) + (Defualt * Recovery)\n",
        "print(f\"The Expected Payoff is ${Expected_Payoff:.2f}\")\n",
        "\n",
        "#Expected Return\n",
        "Expected_Return = (Expected_Payoff - Bond_Price) / Bond_Price\n",
        "print(F\" The Expected Return is {Expected_Return * 100 :.2f}%\")\n",
        "\n",
        "#WACC\n",
        "E = 0.40 #Market Value of Equity\n",
        "D = 0.60 #Market Value of Debt\n",
        "Re = 0.25 #Cost of equity\n",
        "Rd = 0.116 #Cost of Debt\n",
        "Tc = 0.35  #Tax Rate\n",
        "\n",
        "WACC = E * Re + D * Rd * (1-Tc)\n",
        "print(f\"The WACC for the company is {WACC * 100:.2f}%\")"
      ],
      "metadata": {
        "colab": {
          "base_uri": "https://localhost:8080/"
        },
        "id": "zVIB203UWUH3",
        "outputId": "f6bef94d-d7ba-4a7b-8e2b-310f6f982ba4"
      },
      "execution_count": null,
      "outputs": [
        {
          "output_type": "stream",
          "name": "stdout",
          "text": [
            "The Expected Payoff is $105.60\n",
            " The Expected Return is 11.16%\n",
            "The WACC for the company is 14.52%\n"
          ]
        }
      ]
    }
  ]
}